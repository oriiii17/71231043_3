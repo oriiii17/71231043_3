{
 "cells": [
  {
   "cell_type": "code",
   "execution_count": 1,
   "id": "de7c3f8e",
   "metadata": {},
   "outputs": [
    {
     "name": "stdout",
     "output_type": "stream",
     "text": [
      "False\n",
      "True\n",
      "True\n",
      "True\n",
      "True\n",
      "True\n",
      "True\n",
      "False\n",
      "False\n",
      "False\n",
      "True\n",
      "True\n",
      "False\n"
     ]
    }
   ],
   "source": [
    "# Perbandingan Nilai Sederhana\n",
    "a = 15\n",
    "b = 30\n",
    "print(a == b)  # False, karena a tidak sama dengan b\n",
    "print(a < b)   # True, karena a lebih kecil dari b\n",
    "\n",
    "usia = 20\n",
    "print(usia >= 18)  # True, karena usia lebih besar atau sama dengan 18\n",
    "\n",
    "nilai = 75\n",
    "print(nilai != 0)  # True, karena nilai tidak sama dengan 0\n",
    "\n",
    "# Perbandingan String\n",
    "nama = \"Sarah\"\n",
    "print(nama == \"Sarah\")  # True, karena nama adalah \"Sarah\"\n",
    "\n",
    "jenis_kelamin = \"W\"\n",
    "print(jenis_kelamin != \"L\")  # True, karena jenis kelamin bukan \"L\" (laki-laki)\n",
    "\n",
    "warna_mata = \"biru\"\n",
    "print(warna_mata == \"biru\")  # True, karena warna mata adalah \"biru\"\n",
    "\n",
    "# Penggunaan Kata Khusus\n",
    "total_pembelian = 95000\n",
    "print(total_pembelian >= 100000)  # False, karena total pembelian kurang dari Rp. 100.000\n",
    "\n",
    "umur = 12\n",
    "print(umur <= 10)  # False, karena umur tidak kurang dari atau sama dengan 10 tahun\n",
    "\n",
    "nilai_tugas = 65\n",
    "print(nilai_tugas > 70)  # False, karena nilai tugas kurang dari 70\n",
    "\n",
    "# Perbandingan Logika Gabungan\n",
    "nilai_ujian1 = 70\n",
    "nilai_ujian2 = 80\n",
    "print((nilai_ujian1 >= 60) and (nilai_ujian2 >= 70))  # True, karena nilai_ujian1 cukup untuk lulus dan nilai_ujian2 lebih dari 70\n",
    "\n",
    "memiliki_ktp = True\n",
    "print((usia >= 17) or (memiliki_ktp == True))  # True, karena seseorang sudah berusia 17 tahun atau memiliki KTP\n",
    "\n",
    "tinggi_badan = 160\n",
    "berat_badan = 60\n",
    "print((tinggi_badan >= 165) and (berat_badan <= 65))  # False, karena tinggi badan kurang dari 165 atau berat badan lebih dari 65\n"
   ]
  },
  {
   "cell_type": "code",
   "execution_count": 2,
   "id": "2e8f29e7",
   "metadata": {},
   "outputs": [
    {
     "name": "stdout",
     "output_type": "stream",
     "text": [
      "Tolong masukkan usia Anda: 99\n",
      "Anda masuk kategori lansia\n"
     ]
    }
   ],
   "source": [
    "usia = int(input(\"Tolong masukkan usia Anda: \"))\n",
    "\n",
    "if usia <= 6:\n",
    "    print(\"Anda masih balita\")\n",
    "elif usia >= 7 and usia <= 12:\n",
    "    print(\"Anda adalah seorang anak-anak\")\n",
    "elif usia >=13 and usia <= 20:\n",
    "    print(\"Anda seorang remaja\")\n",
    "elif usia >= 21 and usia <= 40:\n",
    "    print(\"Anda sudah dewasa\")\n",
    "elif usia > 40:\n",
    "    print(\"Anda masuk kategori lansia\")\n"
   ]
  },
  {
   "cell_type": "code",
   "execution_count": 4,
   "id": "94c22423",
   "metadata": {},
   "outputs": [
    {
     "name": "stdout",
     "output_type": "stream",
     "text": [
      "Masukkan suatu bilangan: 9\n",
      "Positif\n"
     ]
    }
   ],
   "source": [
    "bilangan = int(input(\"Masukkan suatu bilangan: \"))\n",
    "hasil = \"Positif\" if bilangan > 0 else (\"Negatif\" if bilangan < 0 else \"Nol\")\n",
    "print(hasil)"
   ]
  },
  {
   "cell_type": "code",
   "execution_count": 5,
   "id": "6ceb9e97",
   "metadata": {},
   "outputs": [
    {
     "name": "stdout",
     "output_type": "stream",
     "text": [
      "Masukkan nomor bulan (1-12): 11\n",
      "Jumlah hari dalam bulan 11: 30 hari.\n"
     ]
    }
   ],
   "source": [
    "hari_per_bulan = {\n",
    "    1: 31, 2: 29, 3: 31, 4: 30, 5: 31, 6: 30,\n",
    "    7: 31, 8: 31, 9: 30, 10: 31, 11: 30, 12: 31\n",
    "}\n",
    "\n",
    "try:\n",
    "    # memasukkan nomor bulan\n",
    "    nomor_bulan = int(input(\"Masukkan nomor bulan (1-12): \"))\n",
    "    \n",
    "    # apakah nomor bulan valid\n",
    "    if nomor_bulan not in range(1, 13):\n",
    "        raise ValueError(\"Nomor bulan tidak valid!\")\n",
    "    \n",
    "    # jumlah hari dalam bulan yang dimasukkan\n",
    "    print(f\"Jumlah hari dalam bulan {nomor_bulan}: {hari_per_bulan[nomor_bulan]} hari.\")\n",
    "except ValueError as e:\n",
    "    # kesalahan jika nomor bulan tidak valid\n",
    "    print(\"Terjadi kesalahan:\", e)\n"
   ]
  },
  {
   "cell_type": "code",
   "execution_count": 6,
   "id": "846b0ead",
   "metadata": {},
   "outputs": [
    {
     "name": "stdout",
     "output_type": "stream",
     "text": [
      "Masukkan panjang sisi 1: 24\n",
      "Masukkan panjang sisi 2: 3\n",
      "Masukkan panjang sisi 3: 65\n",
      "Tidak ada yang sama\n"
     ]
    }
   ],
   "source": [
    "try:\n",
    "    # memasukkan panjang ketiga sisi segitiga\n",
    "    sisi1 = float(input(\"Masukkan panjang sisi 1: \"))\n",
    "    sisi2 = float(input(\"Masukkan panjang sisi 2: \"))\n",
    "    sisi3 = float(input(\"Masukkan panjang sisi 3: \"))\n",
    "    \n",
    "    # Memeriksa apakah input pengguna merupakan panjang sisi yang valid\n",
    "    if sisi1 <= 0 or sisi2 <= 0 or sisi3 <= 0:\n",
    "        raise ValueError(\"Panjang sisi tidak boleh negatif atau nol!\")\n",
    "    \n",
    "    # Menentukan jenis segitiga berdasarkan panjang sisi-sisinya\n",
    "    if sisi1 == sisi2 == sisi3:\n",
    "        print(\"3 sisi sama\")\n",
    "    elif sisi1 == sisi2 or sisi1 == sisi3 or sisi2 == sisi3:\n",
    "        print(\"2 sisi sama\")\n",
    "    else:\n",
    "        print(\"Tidak ada yang sama\")\n",
    "except ValueError as e:\n",
    "    # kesalahan jika input pengguna tidak valid\n",
    "    print(\"Terjadi kesalahan:\", e)\n"
   ]
  }
 ],
 "metadata": {
  "kernelspec": {
   "display_name": "Python 3 (ipykernel)",
   "language": "python",
   "name": "python3"
  },
  "language_info": {
   "codemirror_mode": {
    "name": "ipython",
    "version": 3
   },
   "file_extension": ".py",
   "mimetype": "text/x-python",
   "name": "python",
   "nbconvert_exporter": "python",
   "pygments_lexer": "ipython3",
   "version": "3.11.5"
  }
 },
 "nbformat": 4,
 "nbformat_minor": 5
}
